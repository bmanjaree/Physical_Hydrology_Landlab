{
 "cells": [
  {
   "cell_type": "markdown",
   "metadata": {},
   "source": [
    "<a href=\"http://landlab.github.io\"><img style=\"float: left\" src=\"https://raw.githubusercontent.com/landlab/tutorials/release/landlab_header.png\"></a>"
   ]
  },
  {
   "cell_type": "markdown",
   "metadata": {},
   "source": [
    "# Kinematic Wave Overland Flow Component "
   ]
  },
  {
   "cell_type": "markdown",
   "metadata": {},
   "source": [
    "## 1.0. Introduction\n",
    "\n",
    "### 1.1. Theory\n",
    "\n",
    "The 1-D Saint Venant equation for transient shallow water flow is in the core of most hydrodynamics models:\n",
    "\n",
    "$$ \\frac{\\partial Q}{\\partial t} + \\frac{\\partial}{\\partial x}\\left(\\frac{Q^2}{A_{xs}}\\right) + gA_{xs} \\frac{\\partial (h+z)}{\\partial x} + \\frac{gn^2 \\lvert{Q}\\rvert Q}{R^{4/3}A_{xs}} = 0 \\space\\space\\space\\space\\space\\space\\space\\space\\space\\space\\space\\space\\space\\space\\space\\space\\space\\space\\space\\space(1)$$\n",
    "    \n",
    "\n",
    "\n",
    "where      \n",
    "&nbsp;&nbsp;&nbsp;&nbsp;$Q = discharge \\left[L^3{T^{-1}}\\right]$  \n",
    "&nbsp;&nbsp;&nbsp;&nbsp;$t = time \\left[T\\right]$  \n",
    "&nbsp;&nbsp;&nbsp;&nbsp;$x = location \\space in \\space space \\left[L\\right]$   \n",
    "&nbsp;&nbsp;&nbsp;&nbsp;$g = acceleration \\space due \\space to \\space gravity \\left[L{T^{-2}}\\right]$  \n",
    "&nbsp;&nbsp;&nbsp;&nbsp;$h = water \\space depth \\left[L\\right]$  \n",
    "&nbsp;&nbsp;&nbsp;&nbsp;$z = bed \\space elevation \\left[L\\right]$  \n",
    "&nbsp;&nbsp;&nbsp;&nbsp;$n = Manning's \\space roughness \\space coeffiecient \\left[T{L^{{-1}/{3}}}\\right]$  \n",
    "&nbsp;&nbsp;&nbsp;&nbsp;$R = hydraulic \\space radius \\left[L\\right]$  \n",
    "&nbsp;&nbsp;&nbsp;&nbsp;$A_{xs} = cross-sectional \\space area \\left[L^2\\right]$ \n",
    "\n",
    "From left to right, the terms in Equation (1) represent **local acceleration, convective acceleration, gradients of fluid pressure and bed elevation, and friction**. Because this equation is difficult (i.e., almost impossible) to solve explicitly, approximations are commonly used. \n",
    "\n",
    "The simplest approximation, the **Kinematic Wave model**, only retains the **friction term**, making it the simplest approximation one can use. The Landlab `KinwaveImplicitOverlandFlow` component provides a 2-D locally implicit kinematic wave solution in which energy slope is assumed to be equal to the bed slope. \n",
    "\n",
    "\n",
    "This tutorial illustrates the use of `KinwaveImplicitOverlandFlow`. We will use:\n",
    "\n",
    "* Spring Creek watershed, CO, USA \n",
    "\n",
    "and assume spatially uniform runoff generation and surface roughness (i.e., homogenous land cover and channel)."
   ]
  },
  {
   "cell_type": "markdown",
   "metadata": {},
   "source": [
    "### Questions to consider before running this notebook\n",
    "\n",
    "We will focus on the hydrograph characteristics, time to peak, peak discharge, and hydrograph shape. \n",
    "\n",
    "1. How do watershed shape and drainage area affect hydrograph characteristics? \n",
    "2. How does runoff intensity impact the time to peak and peak discharge across the channel network? \n",
    "3. How does runoff duration impact the time to peak and peak discharge across the channel network? \n",
    "4. How does surface roughness due to soil and land cover influence hydrograph peak discharge and shape?"
   ]
  },
  {
   "cell_type": "markdown",
   "metadata": {},
   "source": [
    "**Import numpy and components:**"
   ]
  },
  {
   "cell_type": "code",
   "execution_count": null,
   "metadata": {},
   "outputs": [],
   "source": [
    "import numpy as np\n",
    "from time import time\n",
    "\n",
    "from landlab.io.esri_ascii import read_esri_ascii\n",
    "\n",
    "from landlab.components import KinwaveImplicitOverlandFlow, SinkFiller\n",
    "from landlab.components.flow_accum import FlowAccumulator\n",
    "#from landlab.components.flow_accum import find_drainage_area_and_discharge\n",
    "\n",
    "from landlab.plot.imshow import imshow_grid\n",
    "from landlab.plot.colors import water_colormap\n",
    "\n",
    "from matplotlib import pyplot as plt\n",
    "from matplotlib.pyplot import figure\n",
    "\n",
    "# Set the environment to place plots in Jupyter cells.\n",
    "%matplotlib inline"
   ]
  },
  {
   "cell_type": "markdown",
   "metadata": {},
   "source": [
    "**Input parameters for KinwaveImplicitOverlandflow component**"
   ]
  },
  {
   "cell_type": "code",
   "execution_count": null,
   "metadata": {},
   "outputs": [],
   "source": [
    "starting_precip_mmhr = 87    # [mm/hour] this is runoff rate uniformly distributed in space\n",
    "storm_duration = 1.5         # [hour]\n",
    "model_run_time = 4.0         # [hour]\n",
    "    \n",
    "n = 0.15                    # MAnning's roughness coefficient, (s/m^(1/3))\n",
    "\n",
    "dt = 500                     # time step [sec] \n",
    "\n",
    "#Converting units to SI [m] and [sec]\n",
    "storm_duration_sec=storm_duration*3600 # [sec]\n",
    "model_run_time_sec=model_run_time*3600 # [sec]"
   ]
  },
  {
   "cell_type": "markdown",
   "metadata": {},
   "source": [
    "**Import the DEM and find its outlet** "
   ]
  },
  {
   "cell_type": "code",
   "execution_count": null,
   "metadata": {},
   "outputs": [],
   "source": [
    "# Spring Creek Basin\n",
    "(rmg, z) = read_esri_ascii('SpringCreek_DEM.asc', name='topographic__elevation')\n",
    "rmg.set_watershed_boundary_condition(z)"
   ]
  },
  {
   "cell_type": "markdown",
   "metadata": {},
   "source": [
    "**Derive drainage areas to select internal points for plotting hydrographs as needed.**"
   ]
  },
  {
   "cell_type": "code",
   "execution_count": null,
   "metadata": {},
   "outputs": [],
   "source": [
    "# Spring Creek\n",
    "fa= FlowAccumulator(rmg, flow_director='FlowDirectorMFD')  # Kinematicwave uses a multiple flow director algorithm\n",
    "                                                           \n",
    "fa.run_one_step()\n",
    "(da, q) = fa.accumulate_flow()"
   ]
  },
  {
   "cell_type": "markdown",
   "metadata": {},
   "source": [
    "**Select locations to plot hydrographs within ranges of drainage areas:** we would like to pick two points one in the middle and another towards the headwater region to compare hydrographs.\n",
    "\n",
    "The midstream and upstream node drainge area thresholds can be identified by drainge area ranges in km$^2$. The range used to identify a midstream location should be larger than the range used to identify an upstream location. These internal nodes can be identified by trial using different drainge area values, and plotting the locations selected. After we select the drainage area ranges we will print the node IDs, drainge areas, and elevations of the locations we select and map the locations on the elevation map of the watershed. "
   ]
  },
  {
   "cell_type": "code",
   "execution_count": null,
   "metadata": {},
   "outputs": [],
   "source": [
    "# These values can be changed to set drainage area thresholds in km^2\n",
    "midstream_da_upperbound = 20\n",
    "midstream_da_lowerbound = 17.5\n",
    "upstream_da_upperbound = 5\n",
    "upstream_da_lowerbound = 3.2\n",
    "\n",
    "# Identify sample nodes.\n",
    "outlet_node_to_sample = np.argmax(rmg.at_node['drainage_area'])\n",
    "\n",
    "midstream_node_to_sample = np.where(np.logical_and(rmg.at_node['drainage_area'] > \n",
    "                                                   midstream_da_lowerbound * 1000000, \n",
    "                                                   rmg.at_node['drainage_area']<midstream_da_upperbound*1000000))[0][0]\n",
    "\n",
    "upstream_node_to_sample = np.where(np.logical_and(rmg.at_node['drainage_area'] > \n",
    "                                                  upstream_da_lowerbound*1000000, \n",
    "                                                  rmg.at_node['drainage_area']<upstream_da_upperbound*1000000))[0][0]\n",
    "\n",
    "print('Outlet Node = ' + str(outlet_node_to_sample) + '; Drainage Area= ' + \n",
    "      str(da[outlet_node_to_sample] / 1000000) + ' km^2; Elev = '+ str(round(z[outlet_node_to_sample], 1)) + ' m')\n",
    "print('Midstream Node = ' + str(midstream_node_to_sample) + '; Drainage Area= ' + \n",
    "      str(da[midstream_node_to_sample] / 1000000) + ' km^2; Elev = '+ str(round(z[midstream_node_to_sample], 1)) + ' m')\n",
    "print('Upstream Node = ' + str(upstream_node_to_sample) + '; Drainage Area= ' + \n",
    "      str(da[upstream_node_to_sample] / 1000000) + ' km^2; Elev = '+ str(round(z[upstream_node_to_sample], 1)) + ' m')"
   ]
  },
  {
   "cell_type": "markdown",
   "metadata": {},
   "source": [
    "**Plot the watershed and locations we chose above for plotting hydrographs**"
   ]
  },
  {
   "cell_type": "code",
   "execution_count": null,
   "metadata": {},
   "outputs": [],
   "source": [
    "## Plot Spring Creek\n",
    "# Plot the DEM.\n",
    "\n",
    "# Set up the figure.\n",
    "fig, ax = plt.subplots(nrows=1, ncols=1, figsize=(6, 6))\n",
    "ax.xaxis.set_visible(False)\n",
    "ax.set_facecolor(\"blue\")\n",
    "\n",
    "imshow_grid(rmg, z, plot_name='Spring Creek', var_name='topographic__elevation', var_units='m', grid_units=('m', 'm'), \n",
    "          cmap='terrain', limits=(1875, 2615), color_for_closed='white')\n",
    "\n",
    "\n",
    "# Plot the sample nodes.\n",
    "ax.plot(rmg.node_x[outlet_node_to_sample], rmg.node_y[outlet_node_to_sample], 'ro', label='outlet')\n",
    "ax.plot(rmg.node_x[midstream_node_to_sample], rmg.node_y[midstream_node_to_sample], 'go', label='midstream')\n",
    "ax.plot(rmg.node_x[upstream_node_to_sample], rmg.node_y[upstream_node_to_sample], 'bo', label='upstream')\n",
    "\n",
    "_ = ax.legend(loc='lower right')"
   ]
  },
  {
   "cell_type": "markdown",
   "metadata": {},
   "source": [
    "**Create empty lists for saving hydrographs at these location:**"
   ]
  },
  {
   "cell_type": "code",
   "execution_count": null,
   "metadata": {},
   "outputs": [],
   "source": [
    "# Create lists for saving discharge and time data for plotting hydrographs.\n",
    "discharge_at_outlet = [] \n",
    "discharge_midstream = []\n",
    "discharge_upstream = []\n",
    "\n",
    "hydrograph_time = []\n",
    "\n",
    "# create an initial surface water depth field if you would like to map water depths\n",
    "rmg.add_zeros(\"surface_water__depth\", at=\"node\", clobber=True)"
   ]
  },
  {
   "cell_type": "markdown",
   "metadata": {},
   "source": [
    "**Now instantiate the component itself:** you can glance over the component before we run it by uncommenting the line below. "
   ]
  },
  {
   "cell_type": "code",
   "execution_count": null,
   "metadata": {},
   "outputs": [],
   "source": [
    "#KinwaveImplicitOverlandFlow?"
   ]
  },
  {
   "cell_type": "code",
   "execution_count": null,
   "metadata": {},
   "outputs": [],
   "source": [
    "kw = KinwaveImplicitOverlandFlow(rmg, runoff_rate=0.0, roughness=n, depth_exp=5/3)"
   ]
  },
  {
   "cell_type": "markdown",
   "metadata": {},
   "source": [
    "**Now we're going to run the loop that drives the component:** Elapsed time starts at 1 second. This prevents errors when running the component."
   ]
  },
  {
   "cell_type": "code",
   "execution_count": null,
   "metadata": {},
   "outputs": [],
   "source": [
    "elapsed_time=1;\n",
    "#dt=1\n",
    "while elapsed_time < model_run_time_sec:  \n",
    "    \n",
    "    if elapsed_time < storm_duration_sec:\n",
    "        kw.runoff_rate=starting_precip_mmhr #This needs to be in mm/hr because the source code automatically converts to m/s\n",
    "    else:\n",
    "        kw.runoff_rate=1e-20                #This needs to be > 0 because of an assertion in the source code... \n",
    "        \n",
    "    kw.run_one_step(dt) \n",
    "    \n",
    "    # add elapsed time to the continuos time\n",
    "    hydrograph_time.append(elapsed_time/3600)    \n",
    "    \n",
    "    # pick discharge values from nodes identified earlier and store them for plotting\n",
    "    discharge_at_outlet.append(rmg.at_node['surface_water_inflow__discharge'][outlet_node_to_sample])\n",
    "    discharge_midstream.append(rmg.at_node['surface_water_inflow__discharge'][midstream_node_to_sample])\n",
    "    discharge_upstream.append(rmg.at_node['surface_water_inflow__discharge'][upstream_node_to_sample])\n",
    "     \n",
    "    ## output time every now and then so that you know the code\n",
    "    ## is actually running\n",
    "    if (elapsed_time % 100) < 2:\n",
    "        print(\"elapsed time = \", elapsed_time)\n",
    "        \n",
    "    ## Updating elapsed_time  \n",
    "    elapsed_time += dt"
   ]
  },
  {
   "cell_type": "markdown",
   "metadata": {},
   "source": [
    "**Plot hydrographs:**"
   ]
  },
  {
   "cell_type": "code",
   "execution_count": null,
   "metadata": {},
   "outputs": [],
   "source": [
    "plt.figure(1)\n",
    "plt.plot(hydrograph_time, discharge_at_outlet, \"r-\", label=\"outlet\")\n",
    "plt.plot(hydrograph_time, discharge_midstream, \"g-\", label=\"midstream\")\n",
    "plt.plot(hydrograph_time, discharge_upstream, \"b-\", label=\"upstream\")\n",
    "\n",
    "\n",
    "plt.ylabel(\"Discharge (cms)\")\n",
    "plt.xlabel(\"Time (hour)\")\n",
    "plt.legend(loc=\"upper right\")\n",
    "title_text = \"Hydrographs at three locations\"\n",
    "plt.title(title_text)\n",
    "plt.show()"
   ]
  },
  {
   "cell_type": "markdown",
   "metadata": {},
   "source": [
    "We can plot some **snapshots of water depth** on the domain. There is room to improve this plot."
   ]
  },
  {
   "cell_type": "code",
   "execution_count": null,
   "metadata": {},
   "outputs": [],
   "source": [
    "elapsed_time = 1.\n",
    "run_time_slices = (1.2*3600, 1.25*3600)\n",
    "for t in run_time_slices:\n",
    "    while elapsed_time < t:\n",
    "         # First, we calculate our time step.\n",
    "        kw.run_one_step(dt) \n",
    "\n",
    "#         # Increased elapsed time\n",
    "        elapsed_time += dt \n",
    "    figure(t)\n",
    "    imshow_grid(rmg, 'surface_water__depth', cmap='Blues')"
   ]
  },
  {
   "cell_type": "markdown",
   "metadata": {},
   "source": [
    "Try to explore the plot a little bit to see a better view"
   ]
  },
  {
   "cell_type": "code",
   "execution_count": null,
   "metadata": {},
   "outputs": [],
   "source": [
    "imshow_grid(rmg,'surface_water__depth', plot_name = 'Surface water depth', \n",
    "            var_name = 'Depth of water', var_units = 'm', grid_units = ('m','m'), \n",
    "            cmap = 'jet', limits = (0, 5))"
   ]
  },
  {
   "cell_type": "markdown",
   "metadata": {
    "collapsed": true
   },
   "source": [
    "### Click here for more <a href=\"https://landlab.readthedocs.io/en/v2_dev/user_guide/tutorials.html\">Landlab tutorials</a>"
   ]
  }
 ],
 "metadata": {
  "kernelspec": {
   "display_name": "Python 3",
   "language": "python",
   "name": "python3"
  },
  "language_info": {
   "codemirror_mode": {
    "name": "ipython",
    "version": 3
   },
   "file_extension": ".py",
   "mimetype": "text/x-python",
   "name": "python",
   "nbconvert_exporter": "python",
   "pygments_lexer": "ipython3",
   "version": "3.7.3"
  }
 },
 "nbformat": 4,
 "nbformat_minor": 1
}
